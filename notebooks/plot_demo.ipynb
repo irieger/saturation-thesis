{
 "cells": [
  {
   "cell_type": "code",
   "execution_count": null,
   "metadata": {},
   "outputs": [],
   "source": [
    "%matplotlib inline\n",
    "%config InlineBackend.figure_format = 'retina'\n",
    "\n",
    "import sys\n",
    "sys.path.append('../src')\n",
    "\n",
    "import numpy as np\n",
    "from matplotlib import pyplot as plt\n",
    "\n",
    "import colour\n",
    "\n",
    "import plotting\n",
    "\n",
    "from ipywidgets import interact, interactive, fixed, interact_manual\n",
    "import ipywidgets as widgets"
   ]
  },
  {
   "cell_type": "code",
   "execution_count": null,
   "metadata": {},
   "outputs": [],
   "source": [
    "#plotting.getHungBernsData()\n",
    "#plotting.getMunsellData()"
   ]
  },
  {
   "cell_type": "code",
   "execution_count": null,
   "metadata": {},
   "outputs": [],
   "source": [
    "foo = np.random.rand(20, 2) * 0.2 + 0.3\n",
    "line_data = np.array([[0.3333, 0.33333], [0.2, 0.2]])\n",
    "line_data"
   ]
  },
  {
   "cell_type": "code",
   "execution_count": null,
   "metadata": {},
   "outputs": [],
   "source": [
    "plotting.plot_uv(scatter=[(foo, 'Hello')], lines=[(line_data, 'Test')], filename='testout_{}.png', save_only=True)"
   ]
  },
  {
   "cell_type": "code",
   "execution_count": null,
   "metadata": {},
   "outputs": [],
   "source": []
  },
  {
   "cell_type": "code",
   "execution_count": null,
   "metadata": {},
   "outputs": [],
   "source": [
    "foo = np.random.rand(10, 2) * 0.34 + 0.15\n",
    "XYZ = colour.xy_to_XYZ(foo) * 0.4"
   ]
  },
  {
   "cell_type": "code",
   "execution_count": null,
   "metadata": {},
   "outputs": [],
   "source": [
    "plotting.plotAll(scatter = XYZ, hue_lines='hung', base_filename='all_test_out_{}.png')"
   ]
  },
  {
   "cell_type": "code",
   "execution_count": null,
   "metadata": {},
   "outputs": [],
   "source": []
  },
  {
   "cell_type": "code",
   "execution_count": null,
   "metadata": {},
   "outputs": [],
   "source": [
    "green = np.zeros((20, 3))\n",
    "green[:,0] = 0.003\n",
    "green[:,2] = 0.002\n",
    "green[:,1] = np.linspace(0.001, 1, num=green.shape[0])\n",
    "bt709 = colour.RGB_COLOURSPACES['ITU-R BT.709']\n",
    "green = colour.RGB_to_XYZ(green,\n",
    "                          bt709.whitepoint,\n",
    "                          np.array([0.3333333, 0.3333333]),\n",
    "                          bt709.RGB_to_XYZ_matrix,\n",
    "                          'CAT02',\n",
    "                          None)"
   ]
  },
  {
   "cell_type": "code",
   "execution_count": null,
   "metadata": {},
   "outputs": [],
   "source": [
    "plotting.plotAll(lines=[(green, 'Green')])"
   ]
  }
 ],
 "metadata": {
  "language_info": {
   "name": "python",
   "pygments_lexer": "ipython3"
  }
 },
 "nbformat": 4,
 "nbformat_minor": 4
}
