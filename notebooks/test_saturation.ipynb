{
 "cells": [
  {
   "cell_type": "code",
   "execution_count": null,
   "metadata": {},
   "outputs": [],
   "source": [
    "%matplotlib inline\n",
    "%config InlineBackend.figure_format = 'retina'\n",
    "\n",
    "import sys\n",
    "sys.path.append('../src')\n",
    "\n",
    "import numpy as np\n",
    "from matplotlib import pyplot as plt\n",
    "\n",
    "import colour\n",
    "\n",
    "import plotting\n",
    "import saturation\n",
    "from colorspaces import csc\n",
    "\n",
    "from ipywidgets import interact, interactive, fixed, interact_manual\n",
    "import ipywidgets as widgets"
   ]
  },
  {
   "cell_type": "code",
   "execution_count": null,
   "metadata": {},
   "outputs": [],
   "source": [
    "p3_rgb = np.array([ [0.5, 0.0, 0.0],\n",
    "                    [0.0, 0.5, 0.0],\n",
    "                    [0.0, 0.0, 0.5] ])\n",
    "p3_xyz = csc.inputColors(p3_rgb)\n",
    "p3_xyz[p3_xyz < 0.0] = 0.0"
   ]
  },
  {
   "cell_type": "code",
   "execution_count": null,
   "metadata": {},
   "outputs": [],
   "source": [
    "p3_xyz"
   ]
  },
  {
   "cell_type": "code",
   "execution_count": null,
   "metadata": {},
   "outputs": [],
   "source": [
    "plotting.plotAll(scatter=[(p3_xyz, 'Primaries')], hue_lines='hung')"
   ]
  },
  {
   "cell_type": "code",
   "execution_count": null,
   "metadata": {},
   "outputs": [],
   "source": [
    "saturation_values = np.linspace(1.0, 0.0, num=11)\n",
    "\n",
    "sat_ramps = []\n",
    "for i in range(3):\n",
    "    sat_ramps.append(np.zeros((saturation_values.shape[0], 3)))\n",
    "    sat_ramps[i][0,:] = p3_xyz[i, :]"
   ]
  },
  {
   "cell_type": "code",
   "execution_count": null,
   "metadata": {},
   "outputs": [],
   "source": [
    "saturation.saturate(sat_ramps[0][0,:], 0.9, model='bt2020')"
   ]
  },
  {
   "cell_type": "code",
   "execution_count": null,
   "metadata": {},
   "outputs": [],
   "source": [
    "sat_ramps[0][0,:]"
   ]
  },
  {
   "cell_type": "code",
   "execution_count": null,
   "metadata": {},
   "outputs": [],
   "source": [
    "for i in range(1, saturation_values.shape[0]):\n",
    "    sat = saturation_values[i]\n",
    "    for c in range(3):\n",
    "        sat_ramps[c][i, :] = saturation.saturate(sat_ramps[c][0,:], sat, model='bt2020')\n",
    "\n",
    "for c in range(3):\n",
    "    print(sat_ramps[c])"
   ]
  },
  {
   "cell_type": "code",
   "execution_count": null,
   "metadata": {},
   "outputs": [],
   "source": [
    "plotting.plotAll(lines=[(p3_xyz, 'Primaries')], hue_lines='hung')"
   ]
  },
  {
   "cell_type": "code",
   "execution_count": null,
   "metadata": {},
   "outputs": [],
   "source": []
  }
 ],
 "metadata": {
  "language_info": {
   "name": "python",
   "pygments_lexer": "ipython3"
  }
 },
 "nbformat": 4,
 "nbformat_minor": 4
}
